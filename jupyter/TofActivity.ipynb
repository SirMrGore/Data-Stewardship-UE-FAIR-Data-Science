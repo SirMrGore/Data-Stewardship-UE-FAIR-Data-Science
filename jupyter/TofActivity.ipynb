{
 "cells": [
  {
   "cell_type": "markdown",
   "id": "d2cc9de94919a58",
   "metadata": {},
   "source": [
    "# 194.045 Data Stewardship UE (2025S)\n",
    "## Analysing TOF Sensor Activity Data\n",
    "\n",
    "This notebook documents the analysis of sensor activity data collected with a time-of-flight (TOF) sensor. In this experiment the sensor is mounted at 150 cm in height and 60 cm from the door. The sensor is set to disregard any measurement under 600 mm, ensuring that only valid passes (door opening or a person passing) are recorded.\n",
    "\n",
    "The aim is to aggregate and investigate activity counts over time, and then use a machine learning approach to predict activity in a given time interval."
   ]
  },
  {
   "cell_type": "markdown",
   "id": "3d441a14",
   "metadata": {},
   "source": [
    "## 1. Importing Required Libraries\n",
    "\n",
    "The following cell imports the necessary libraries for data manipulation, modelling, evaluation, plotting, and interactive widgets.\n"
   ]
  },
  {
   "cell_type": "code",
   "execution_count": 2,
   "id": "4ed8fac7",
   "metadata": {},
   "outputs": [],
   "source": [
    "import pandas as pd\n",
    "import numpy as np\n",
    "import matplotlib.pyplot as plt\n",
    "import joblib\n",
    "\n",
    "from sklearn.ensemble import HistGradientBoostingRegressor\n",
    "from sklearn.metrics import mean_absolute_error, mean_squared_error, r2_score\n",
    "\n",
    "# UI libraries for interactive widgets\n",
    "import ipywidgets as widgets\n",
    "from IPython.display import display\n",
    "from datetime import datetime\n",
    "\n",
    "# REST client library to load data\n",
    "from dbrepo.RestClient import RestClient\n"
   ]
  },
  {
   "cell_type": "markdown",
   "id": "32a9feea",
   "metadata": {},
   "source": [
    "## 2. Loading Data from the DBRepo REST API\n",
    "\n",
    "Use the widgets below to enter your username and password. Once provided, click the **Load Data** button.  \n",
    "This cell fetches the data from the API and prints a preview of the loaded DataFrame.  \n",
    "\n",
    "*Note: Do not hardcode the credentials – they are entered at runtime.*\n"
   ]
  },
  {
   "cell_type": "code",
   "execution_count": 3,
   "id": "91cd2c59",
   "metadata": {},
   "outputs": [
    {
     "data": {
      "application/vnd.jupyter.widget-view+json": {
       "model_id": "1c0f1e5103a448bfb0724dbacf06e764",
       "version_major": 2,
       "version_minor": 0
      },
      "text/plain": [
       "Text(value='', description='Username:', placeholder='Enter your username')"
      ]
     },
     "metadata": {},
     "output_type": "display_data"
    },
    {
     "data": {
      "application/vnd.jupyter.widget-view+json": {
       "model_id": "6172167f7a554bccb01b051892dffeb7",
       "version_major": 2,
       "version_minor": 0
      },
      "text/plain": [
       "Password(description='Password:', placeholder='Enter your password')"
      ]
     },
     "metadata": {},
     "output_type": "display_data"
    },
    {
     "data": {
      "application/vnd.jupyter.widget-view+json": {
       "model_id": "6e28b5d69bc648e8bd0deccdf5814582",
       "version_major": 2,
       "version_minor": 0
      },
      "text/plain": [
       "Button(description='Load Data', style=ButtonStyle())"
      ]
     },
     "metadata": {},
     "output_type": "display_data"
    },
    {
     "data": {
      "application/vnd.jupyter.widget-view+json": {
       "model_id": "452bdae34c214fa099615b955f554d87",
       "version_major": 2,
       "version_minor": 0
      },
      "text/plain": [
       "Output()"
      ]
     },
     "metadata": {},
     "output_type": "display_data"
    }
   ],
   "source": [
    "output = widgets.Output()\n",
    "\n",
    "username_widget = widgets.Text(\n",
    "    value=\"\",\n",
    "    placeholder=\"Enter your username\",\n",
    "    description=\"Username:\",\n",
    "    disabled=False\n",
    ")\n",
    "\n",
    "password_widget = widgets.Password(\n",
    "    value=\"\",\n",
    "    placeholder=\"Enter your password\",\n",
    "    description=\"Password:\",\n",
    "    disabled=False\n",
    ")\n",
    "\n",
    "load_button = widgets.Button(description=\"Load Data\")\n",
    "\n",
    "display(username_widget, password_widget, load_button, output)\n",
    "\n",
    "# Global variable to store the loaded DataFrame\n",
    "global_df = None\n",
    "\n",
    "def load_data(button=None):\n",
    "    global global_df\n",
    "    with output:\n",
    "        output.clear_output()\n",
    "        \n",
    "        username = username_widget.value.strip()\n",
    "        password = password_widget.value.strip()\n",
    "        \n",
    "        if not username or not password:\n",
    "            print(\"Please provide both username and password.\")\n",
    "            return\n",
    "        \n",
    "        client = RestClient(\n",
    "            endpoint=\"https://test.dbrepo.tuwien.ac.at\", \n",
    "            username=username,\n",
    "            password=password\n",
    "        )\n",
    "        \n",
    "        data = client.get_table_data(\n",
    "            database_id=\"2db2301f-c701-4d9e-a1d1-3d2d64fa9dd9\", \n",
    "            table_id=\"ea9d167c-08ef-4c80-9700-75d1d4c9eeab\",\n",
    "            size=1500,  # Adjust size as needed\n",
    "        )\n",
    "        df = pd.DataFrame(data)\n",
    "        print(\"Preview of loaded data:\")\n",
    "        print(df)\n",
    "        \n",
    "        global_df = df\n",
    "\n",
    "load_button.on_click(load_data)\n"
   ]
  },
  {
   "cell_type": "markdown",
   "id": "b62aa49b",
   "metadata": {},
   "source": [
    "## 4. Preparing and Splitting Data for Training, Validation, and Testing\n",
    "\n",
    "Here we split the dataset (using a cyclical approach) into:\n",
    "- **Training set:** Approximately 70%\n",
    "- **Validation set:** Approximately 15%\n",
    "- **Test set:** Approximately 15%\n",
    "\n",
    "We use a cyclical method so that every 7th row is assigned to either the validation or test set.\n"
   ]
  },
  {
   "cell_type": "code",
   "execution_count": 4,
   "id": "457f0083",
   "metadata": {},
   "outputs": [
    {
     "ename": "AttributeError",
     "evalue": "'NoneType' object has no attribute 'copy'",
     "output_type": "error",
     "traceback": [
      "\u001b[1;31m---------------------------------------------------------------------------\u001b[0m",
      "\u001b[1;31mAttributeError\u001b[0m                            Traceback (most recent call last)",
      "Cell \u001b[1;32mIn[4], line 2\u001b[0m\n\u001b[0;32m      1\u001b[0m \u001b[38;5;66;03m# Work with the global_df loaded earlier\u001b[39;00m\n\u001b[1;32m----> 2\u001b[0m df \u001b[38;5;241m=\u001b[39m \u001b[43mglobal_df\u001b[49m\u001b[38;5;241;43m.\u001b[39;49m\u001b[43mcopy\u001b[49m()\n\u001b[0;32m      3\u001b[0m df \u001b[38;5;241m=\u001b[39m df\u001b[38;5;241m.\u001b[39msort_values(\u001b[38;5;124m\"\u001b[39m\u001b[38;5;124mtimestamp\u001b[39m\u001b[38;5;124m\"\u001b[39m)\u001b[38;5;241m.\u001b[39mreset_index(drop\u001b[38;5;241m=\u001b[39m\u001b[38;5;28;01mTrue\u001b[39;00m)\n\u001b[0;32m      5\u001b[0m \u001b[38;5;66;03m# 🔁 Ensure 'weekend' column is correctly cast\u001b[39;00m\n",
      "\u001b[1;31mAttributeError\u001b[0m: 'NoneType' object has no attribute 'copy'"
     ]
    }
   ],
   "source": [
    "# Work with the global_df loaded earlier\n",
    "df = global_df.copy()\n",
    "df = df.sort_values(\"timestamp\").reset_index(drop=True)\n",
    "\n",
    "# 🔁 Ensure 'weekend' column is correctly cast\n",
    "df[\"weekend\"] = df[\"weekend\"].astype(str).str.lower() == \"true\"\n",
    "df[\"activity_count\"] = pd.to_numeric(df[\"activity_count\"], errors=\"coerce\")\n",
    "\n",
    "# Define features and target\n",
    "features = ['hour', 'minute', 'dayofweek', 'weekend']\n",
    "X = df[features]\n",
    "y = df['activity_count']\n",
    "\n",
    "# Create mod7-based indices\n",
    "indices = np.arange(len(X))\n",
    "val_inds = indices[::7]\n",
    "test_inds = indices[1::7]\n",
    "both = np.union1d(val_inds, test_inds)\n",
    "train_inds = np.setdiff1d(indices, both)\n",
    "\n",
    "# Partition data\n",
    "X_train = X.iloc[train_inds]\n",
    "y_train = y.iloc[train_inds]\n",
    "X_val   = X.iloc[val_inds]\n",
    "y_val   = y.iloc[val_inds]\n",
    "X_test  = X.iloc[test_inds]\n",
    "y_test  = y.iloc[test_inds]\n",
    "\n",
    "# Log sizes\n",
    "print(f\"Total rows:      {len(X)}\")\n",
    "print(f\"Train rows:      {len(X_train)}\")\n",
    "print(f\"Validation rows: {len(X_val)}\")\n",
    "print(f\"Test rows:       {len(X_test)}\")\n"
   ]
  },
  {
   "cell_type": "markdown",
   "id": "f7808328",
   "metadata": {},
   "source": [
    "## 5. Training the Model\n",
    "\n",
    "We train a `HistGradientBoostingRegressor` with a Poisson loss function, which is appropriate for count data such as our **activity_count**.\n"
   ]
  },
  {
   "cell_type": "code",
   "execution_count": null,
   "id": "7dd665cf",
   "metadata": {},
   "outputs": [],
   "source": [
    "model = HistGradientBoostingRegressor(loss=\"poisson\")\n",
    "model.fit(X_train, y_train)\n"
   ]
  },
  {
   "cell_type": "markdown",
   "id": "ca900402",
   "metadata": {},
   "source": [
    "#### Validation"
   ]
  },
  {
   "cell_type": "code",
   "execution_count": null,
   "id": "14be999b",
   "metadata": {},
   "outputs": [],
   "source": [
    "y_val_pred = model.predict(X_val)\n",
    "print(\"Validation Metrics:\")\n",
    "print(f\"MAE: {mean_absolute_error(y_val, y_val_pred):.2f}\")\n",
    "print(f\"MSE: {mean_squared_error(y_val, y_val_pred):.2f}\")\n",
    "print(f\"R² : {r2_score(y_val, y_val_pred):.2f}\")\n"
   ]
  },
  {
   "cell_type": "markdown",
   "id": "714b6b1f",
   "metadata": {},
   "source": [
    "#### Evaluation on Test"
   ]
  },
  {
   "cell_type": "code",
   "execution_count": null,
   "id": "6820bc75",
   "metadata": {},
   "outputs": [],
   "source": [
    "import matplotlib.dates as mdates\n",
    "\n",
    "# Ensure timestamps are datetime\n",
    "timestamps_test = pd.to_datetime(df['timestamp'].iloc[test_inds])\n",
    "\n",
    "plt.figure(figsize=(12, 5))\n",
    "\n",
    "plt.plot(timestamps_test, y_test.values, label='Actual', marker='o', linewidth=1)\n",
    "plt.plot(timestamps_test, y_test_pred, label='Predicted', marker='x', linewidth=1)\n",
    "\n",
    "# Clean x-axis formatting\n",
    "plt.gca().xaxis.set_major_locator(mdates.AutoDateLocator())\n",
    "plt.gca().xaxis.set_major_formatter(mdates.DateFormatter('%d %b %H:%M'))\n",
    "\n",
    "plt.xlabel(\"Time\")\n",
    "plt.ylabel(\"Activity Count\")\n",
    "plt.title(\"Test Set: Predicted vs Actual Activity Count\")\n",
    "plt.xticks(rotation=45)\n",
    "plt.legend()\n",
    "plt.grid(True)\n",
    "plt.tight_layout()\n",
    "plt.show()\n",
    "\n",
    "# Ensure timestamps are datetime\n",
    "timestamps_test = pd.to_datetime(df['timestamp'].iloc[test_inds])\n",
    "\n",
    "# Build a DataFrame for inspection\n",
    "test_results = pd.DataFrame({\n",
    "    'timestamp': timestamps_test,\n",
    "    'actual_activity_count': y_test.values,\n",
    "    'predicted_activity_count': y_test_pred\n",
    "})\n",
    "\n",
    "test_results['predicted_activity_count'] = test_results['predicted_activity_count'].round(2)\n",
    "\n",
    "# Ensure timestamps are datetime\n",
    "timestamps_test = pd.to_datetime(df['timestamp'].iloc[test_inds])\n",
    "\n",
    "# Convert y_test to Series (if needed) for index access\n",
    "y_test_series = pd.Series(y_test.values, index=timestamps_test)\n",
    "y_pred_series = pd.Series(y_test_pred, index=timestamps_test)\n",
    "\n",
    "# Get max values and timestamps\n",
    "max_actual_val = y_test_series.max()\n",
    "max_actual_time = y_test_series.idxmax()\n",
    "\n",
    "max_pred_val = y_pred_series.max()\n",
    "max_pred_time = y_pred_series.idxmax()\n",
    "\n",
    "print(f\"🔵 Actual Peak:    {max_actual_val} at {max_actual_time}\")\n",
    "print(f\"🟠 Predicted Peak: {max_pred_val:.2f} at {max_pred_time}\")"
   ]
  },
  {
   "cell_type": "markdown",
   "id": "4f14e50d",
   "metadata": {},
   "source": [
    "### Interactive Prediction Tool"
   ]
  },
  {
   "cell_type": "code",
   "execution_count": null,
   "id": "63d1e344",
   "metadata": {},
   "outputs": [],
   "source": [
    "date_picker = widgets.DatePicker(description='Select Date')\n",
    "hour_slider = widgets.IntSlider(min=0, max=23, description='Hour')\n",
    "minute_slider = widgets.IntSlider(min=0, max=59, step=10, description='Minute')\n",
    "\n",
    "def forecast_activity(date, hour, minute):\n",
    "    if date is None:\n",
    "        print(\"Select a date.\")\n",
    "        return\n",
    "    \n",
    "    ts = pd.Timestamp(datetime.combine(date, datetime.min.time())) + pd.Timedelta(hours=hour, minutes=minute)\n",
    "\n",
    "    feats = pd.DataFrame([[\n",
    "        ts.hour,\n",
    "        ts.minute,\n",
    "        ts.dayofweek,\n",
    "        ts.dayofweek >= 5\n",
    "    ]],\n",
    "    columns=['hour', 'minute', 'dayofweek', 'weekend'])\n",
    "\n",
    "    prediction = model.predict(feats)[0]\n",
    "    print(f\"📅 Prediction for {ts.strftime('%Y-%m-%d %H:%M')}: {prediction:.0f} detections\")\n",
    "\n",
    "out = widgets.interactive_output(\n",
    "    forecast_activity,\n",
    "    {'date': date_picker, 'hour': hour_slider, 'minute': minute_slider}\n",
    ")\n",
    "\n",
    "display(widgets.VBox([date_picker, hour_slider, minute_slider]), out)\n"
   ]
  }
 ],
 "metadata": {
  "kernelspec": {
   "display_name": "Python 3",
   "language": "python",
   "name": "python3"
  },
  "language_info": {
   "codemirror_mode": {
    "name": "ipython",
    "version": 3
   },
   "file_extension": ".py",
   "mimetype": "text/x-python",
   "name": "python",
   "nbconvert_exporter": "python",
   "pygments_lexer": "ipython3",
   "version": "3.12.3"
  }
 },
 "nbformat": 4,
 "nbformat_minor": 5
}
